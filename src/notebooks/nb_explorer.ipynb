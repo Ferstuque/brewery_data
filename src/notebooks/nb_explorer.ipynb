{
 "cells": [
  {
   "cell_type": "markdown",
   "id": "bbcf6a59",
   "metadata": {},
   "source": [
    "Installing dependencies"
   ]
  },
  {
   "cell_type": "code",
   "execution_count": 13,
   "id": "f95e480e",
   "metadata": {},
   "outputs": [
    {
     "name": "stdout",
     "output_type": "stream",
     "text": [
      "Requirement already satisfied: pyspark==3.1.3 in /home/enduser/Desktop/Apache Airflow/venv/lib/python3.9/site-packages (3.1.3)\n",
      "Requirement already satisfied: py4j==0.10.9 in /home/enduser/Desktop/Apache Airflow/venv/lib/python3.9/site-packages (from pyspark==3.1.3) (0.10.9)\n"
     ]
    }
   ],
   "source": [
    "!pip install pyspark==3.1.3"
   ]
  },
  {
   "cell_type": "code",
   "execution_count": 14,
   "id": "db429160",
   "metadata": {},
   "outputs": [],
   "source": [
    "from pyspark.sql import SparkSession\n",
    "from pyspark.sql import functions as f\n",
    "from pyspark.sql.window import Window"
   ]
  },
  {
   "cell_type": "markdown",
   "id": "f23f1f68",
   "metadata": {},
   "source": [
    "Start a Spark Session"
   ]
  },
  {
   "cell_type": "code",
   "execution_count": 15,
   "id": "11f76c89",
   "metadata": {},
   "outputs": [],
   "source": [
    "spark = SparkSession\\\n",
    "    .builder\\\n",
    "    .appName(\"brewery_transformation\")\\\n",
    "    .getOrCreate()"
   ]
  },
  {
   "cell_type": "code",
   "execution_count": 61,
   "id": "a059cb70",
   "metadata": {},
   "outputs": [
    {
     "name": "stderr",
     "output_type": "stream",
     "text": [
      "                                                                                \r"
     ]
    },
    {
     "name": "stdout",
     "output_type": "stream",
     "text": [
      "+--------------------+---------+---------+------------+--------------+-------------+--------------------+---------------+----------------+--------------------+------------+-----------+-------------+--------------+--------------------+--------------------+------------+\n",
      "|           address_1|address_2|address_3|brewery_type|          city|      country|                  id|       latitude|       longitude|                name|       phone|postal_code|        state|state_province|              street|         website_url|extract_date|\n",
      "+--------------------+---------+---------+------------+--------------+-------------+--------------------+---------------+----------------+--------------------+------------+-----------+-------------+--------------+--------------------+--------------------+------------+\n",
      "|      1716 Topeka St|     null|     null|       micro|        Norman|United States|5128df48-79fc-4f0...|    35.25738891|    -97.46818222|    (405) Brewing Co|  4058160490| 73069-8224|     Oklahoma|      Oklahoma|      1716 Topeka St|http://www.405bre...|  2025-06-30|\n",
      "|407 Radam Ln Ste ...|     null|     null|       micro|        Austin|United States|9c5a66c8-cc13-416...|           null|            null|    (512) Brewing Co|  5129211545| 78745-1197|        Texas|         Texas|407 Radam Ln Ste ...|http://www.512bre...|  2025-06-30|\n",
      "| 8100 Washington Ave|     null|     null|       micro|Mount Pleasant|United States|34e8c68b-6146-453...|42.720108268996|-87.883363502094|1 of Us Brewing C...|  2624847553| 53406-3920|    Wisconsin|     Wisconsin| 8100 Washington Ave|https://www.1ofus...|  2025-06-30|\n",
      "|       62970 18th St|     null|     null|       large|          Bend|United States|6d14b220-8926-452...|    44.08683531|     -121.281706|10 Barrel Brewing Co|  5415851007| 97701-9847|       Oregon|        Oregon|       62970 18th St|http://www.10barr...|  2025-06-30|\n",
      "|1135 NW Galveston...|     null|     null|       large|          Bend|United States|e2e78bd8-80ff-4a6...|     44.0575649|    -121.3288021|10 Barrel Brewing Co|  5415851007| 97703-2465|       Oregon|        Oregon|1135 NW Galveston...|                null|  2025-06-30|\n",
      "| 1411 NW Flanders St|     null|     null|       large|      Portland|United States|e432899b-7f58-455...|     45.5259786|    -122.6855056|10 Barrel Brewing Co|  5032241700| 97209-2620|       Oregon|        Oregon| 1411 NW Flanders St|http://www.10barr...|  2025-06-30|\n",
      "|           1501 E St|     null|     null|       large|     San Diego|United States|ef970757-fe42-416...|      32.714813|     -117.129593|10 Barrel Brewing Co|  6195782311| 92101-6618|   California|    California|           1501 E St| http://10barrel.com|  2025-06-30|\n",
      "|    62950 NE 18th St|     null|     null|       large|          Bend|United States|9f1852da-c312-42d...|     44.0912109|    -121.2809536|10 Barrel Brewing...|  5415851007|      97701|       Oregon|        Oregon|    62950 NE 18th St|                null|  2025-06-30|\n",
      "|    826 W Bannock St|     null|     null|       large|         Boise|United States|ea4f30c0-bce6-416...|      43.618516|     -116.202929|10 Barrel Brewing...|  2083445870| 83702-5857|        Idaho|         Idaho|    826 W Bannock St|http://www.10barr...|  2025-06-30|\n",
      "|      2620 Walnut St|     null|     null|       large|        Denver|United States|1988eb86-f0a2-467...|     39.7592508|    -104.9853655|10 Barrel Brewing...|  7205738992| 80205-2231|     Colorado|      Colorado|      2620 Walnut St|                null|  2025-06-30|\n",
      "|         490 Mill St|     null|     null|       micro|          Reno|United States|1ecc330f-6275-42a...|     39.5171702|    -119.7732015|10 Torr Distillin...|  7755307014|      89502|       Nevada|        Nevada|         490 Mill St|http://www.10torr...|  2025-06-30|\n",
      "|       400 Brown Cir|     null|     null|       micro|          Knox|United States|7531dbd8-afc9-4b5...|      41.289715|      -86.627954|10-56 Brewing Com...|  6308165790|      46534|      Indiana|       Indiana|       400 Brown Cir|                null|  2025-06-30|\n",
      "| 1304 Scott St Ste D|     null|     null|      closed|      Petaluma|United States|5ae467af-66dc-4d7...|    38.27029381|     -122.665055|101 North Brewing...|  7077534934| 94954-7100|   California|    California| 1304 Scott St Ste D|http://www.101nor...|  2025-06-30|\n",
      "|        1043 Park St|     null|     null|       micro|   Castle Rock|United States|4ffda196-dd59-44a...|    39.38269495|    -104.8667206| 105 West Brewing Co|  3033257321| 80109-1585|     Colorado|      Colorado|        1043 Park St|http://www.105wes...|  2025-06-30|\n",
      "|        2005 2nd Ave|     null|     null|       micro|         Anoka|United States|42aa37d5-8384-4ff...|    45.19812039|    -93.38952559|         10K Brewing|  7633924753| 55303-2243|    Minnesota|     Minnesota|        2005 2nd Ave|  http://10KBrew.com|  2025-06-30|\n",
      "|   491 Washington St|     null|     null|       micro|      Abington|United States|232e8f62-9afc-45f...|    42.10591754|    -70.94594149|10th District Bre...|  7813071554| 02351-2419|Massachusetts| Massachusetts|   491 Washington St|http://www.10thdi...|  2025-06-30|\n",
      "|   6820 Bourgeois Rd|     null|     null|       micro|       Houston|United States|08f78223-24f8-4b7...|     29.9515464|     -95.5186591|11 Below Brewing ...|  2814442337| 77066-3107|        Texas|         Texas|   6820 Bourgeois Rd|http://www.11belo...|  2025-06-30|\n",
      "|       141 E Main St|     null|     null|     brewpub|      John Day|United States|58293321-14ae-49d...|     44.4146563|    -118.9218754|     1188 Brewing Co|  5415751188| 97845-1210|       Oregon|        Oregon|       141 E Main St|http://www.1188br...|  2025-06-30|\n",
      "|      Unnamed Street| Clonmore|     null|       micro|     Killeshin|      Ireland|e5f3e72a-fee2-481...|    52.84930763|    -6.979343891|12 Acres Brewing ...|353599107299|   R93 X3X8|        Laois|         Laois|      Unnamed Street|https://12acresbr...|  2025-06-30|\n",
      "|80 Earhart Dr Ste 20|     null|     null|     brewpub| Williamsville|United States|d81ff708-b5d2-478...|           null|            null|12 Gates Brewing ...|  7169066600| 14221-7804|     New York|      New York|80 Earhart Dr Ste 20|http://www.12gate...|  2025-06-30|\n",
      "+--------------------+---------+---------+------------+--------------+-------------+--------------------+---------------+----------------+--------------------+------------+-----------+-------------+--------------+--------------------+--------------------+------------+\n",
      "only showing top 20 rows\n",
      "\n"
     ]
    }
   ],
   "source": [
    "df = spark.read.json(\"../../datalake/Bronze/brewery_data\")\n",
    "df.show()"
   ]
  },
  {
   "cell_type": "code",
   "execution_count": 62,
   "id": "3213a05a",
   "metadata": {},
   "outputs": [
    {
     "name": "stdout",
     "output_type": "stream",
     "text": [
      "root\n",
      " |-- address_1: string (nullable = true)\n",
      " |-- address_2: string (nullable = true)\n",
      " |-- address_3: string (nullable = true)\n",
      " |-- brewery_type: string (nullable = true)\n",
      " |-- city: string (nullable = true)\n",
      " |-- country: string (nullable = true)\n",
      " |-- id: string (nullable = true)\n",
      " |-- latitude: double (nullable = true)\n",
      " |-- longitude: double (nullable = true)\n",
      " |-- name: string (nullable = true)\n",
      " |-- phone: string (nullable = true)\n",
      " |-- postal_code: string (nullable = true)\n",
      " |-- state: string (nullable = true)\n",
      " |-- state_province: string (nullable = true)\n",
      " |-- street: string (nullable = true)\n",
      " |-- website_url: string (nullable = true)\n",
      " |-- extract_date: date (nullable = true)\n",
      "\n"
     ]
    }
   ],
   "source": [
    "df.printSchema()"
   ]
  },
  {
   "cell_type": "code",
   "execution_count": 63,
   "id": "9e57518d",
   "metadata": {},
   "outputs": [
    {
     "name": "stderr",
     "output_type": "stream",
     "text": [
      "[Stage 131:=====================================>                 (51 + 4) / 75]\r"
     ]
    },
    {
     "name": "stdout",
     "output_type": "stream",
     "text": [
      "+------------+\n",
      "|extract_date|\n",
      "+------------+\n",
      "|  2025-06-29|\n",
      "|  2025-07-01|\n",
      "|  2025-06-30|\n",
      "+------------+\n",
      "\n"
     ]
    },
    {
     "name": "stderr",
     "output_type": "stream",
     "text": [
      "                                                                                \r"
     ]
    }
   ],
   "source": [
    "df.select('extract_date').distinct().show()"
   ]
  },
  {
   "cell_type": "code",
   "execution_count": 64,
   "id": "649cfa88",
   "metadata": {},
   "outputs": [
    {
     "name": "stdout",
     "output_type": "stream",
     "text": [
      "The latest date is: 2025-07-01\n"
     ]
    }
   ],
   "source": [
    "# Filtering the latest extract_date\n",
    "latest_date = df.agg(f.max('extract_date').alias('latest_date')).collect()[0]['latest_date']\n",
    "print(f'The latest date is: {latest_date}')"
   ]
  },
  {
   "cell_type": "markdown",
   "id": "00042c30",
   "metadata": {},
   "source": [
    "Silver layer test"
   ]
  },
  {
   "cell_type": "code",
   "execution_count": 65,
   "id": "050df21b",
   "metadata": {},
   "outputs": [],
   "source": [
    "# df_main.coalesce(1).write.mode('overwrite').parquet('../../output/brewery_data_main')\n",
    "# df_hist.coalesce(1).write.mode('overwrite').parquet('../../output/brewery_data_hist')"
   ]
  },
  {
   "cell_type": "code",
   "execution_count": 66,
   "id": "25d26ee1",
   "metadata": {},
   "outputs": [],
   "source": [
    "df_main_silver = spark.read.parquet('../../datalake/Silver/brewery_data/brewery_data_main')"
   ]
  },
  {
   "cell_type": "code",
   "execution_count": 67,
   "id": "b3d98097",
   "metadata": {},
   "outputs": [
    {
     "name": "stdout",
     "output_type": "stream",
     "text": [
      "+--------------------+---------+---------+------------+--------------+-------------+--------------------+---------------+----------------+--------------------+------------+-----------+-------------+--------------+--------------------+--------------------+------------+\n",
      "|           address_1|address_2|address_3|brewery_type|          city|      country|                  id|       latitude|       longitude|                name|       phone|postal_code|        state|state_province|              street|         website_url|process_date|\n",
      "+--------------------+---------+---------+------------+--------------+-------------+--------------------+---------------+----------------+--------------------+------------+-----------+-------------+--------------+--------------------+--------------------+------------+\n",
      "|      1716 Topeka St|     null|     null|       micro|        Norman|United States|5128df48-79fc-4f0...|    35.25738891|    -97.46818222|    (405) Brewing Co|  4058160490| 73069-8224|     Oklahoma|      Oklahoma|      1716 Topeka St|http://www.405bre...|  2025-07-01|\n",
      "|407 Radam Ln Ste ...|     null|     null|       micro|        Austin|United States|9c5a66c8-cc13-416...|           null|            null|    (512) Brewing Co|  5129211545| 78745-1197|        Texas|         Texas|407 Radam Ln Ste ...|http://www.512bre...|  2025-07-01|\n",
      "| 8100 Washington Ave|     null|     null|       micro|Mount Pleasant|United States|34e8c68b-6146-453...|42.720108268996|-87.883363502094|1 of Us Brewing C...|  2624847553| 53406-3920|    Wisconsin|     Wisconsin| 8100 Washington Ave|https://www.1ofus...|  2025-07-01|\n",
      "|       62970 18th St|     null|     null|       large|          Bend|United States|6d14b220-8926-452...|    44.08683531|     -121.281706|10 Barrel Brewing Co|  5415851007| 97701-9847|       Oregon|        Oregon|       62970 18th St|http://www.10barr...|  2025-07-01|\n",
      "|1135 NW Galveston...|     null|     null|       large|          Bend|United States|e2e78bd8-80ff-4a6...|     44.0575649|    -121.3288021|10 Barrel Brewing Co|  5415851007| 97703-2465|       Oregon|        Oregon|1135 NW Galveston...|                null|  2025-07-01|\n",
      "| 1411 NW Flanders St|     null|     null|       large|      Portland|United States|e432899b-7f58-455...|     45.5259786|    -122.6855056|10 Barrel Brewing Co|  5032241700| 97209-2620|       Oregon|        Oregon| 1411 NW Flanders St|http://www.10barr...|  2025-07-01|\n",
      "|           1501 E St|     null|     null|       large|     San Diego|United States|ef970757-fe42-416...|      32.714813|     -117.129593|10 Barrel Brewing Co|  6195782311| 92101-6618|   California|    California|           1501 E St| http://10barrel.com|  2025-07-01|\n",
      "|    62950 NE 18th St|     null|     null|       large|          Bend|United States|9f1852da-c312-42d...|     44.0912109|    -121.2809536|10 Barrel Brewing...|  5415851007|      97701|       Oregon|        Oregon|    62950 NE 18th St|                null|  2025-07-01|\n",
      "|    826 W Bannock St|     null|     null|       large|         Boise|United States|ea4f30c0-bce6-416...|      43.618516|     -116.202929|10 Barrel Brewing...|  2083445870| 83702-5857|        Idaho|         Idaho|    826 W Bannock St|http://www.10barr...|  2025-07-01|\n",
      "|      2620 Walnut St|     null|     null|       large|        Denver|United States|1988eb86-f0a2-467...|     39.7592508|    -104.9853655|10 Barrel Brewing...|  7205738992| 80205-2231|     Colorado|      Colorado|      2620 Walnut St|                null|  2025-07-01|\n",
      "|         490 Mill St|     null|     null|       micro|          Reno|United States|1ecc330f-6275-42a...|     39.5171702|    -119.7732015|10 Torr Distillin...|  7755307014|      89502|       Nevada|        Nevada|         490 Mill St|http://www.10torr...|  2025-07-01|\n",
      "|       400 Brown Cir|     null|     null|       micro|          Knox|United States|7531dbd8-afc9-4b5...|      41.289715|      -86.627954|10-56 Brewing Com...|  6308165790|      46534|      Indiana|       Indiana|       400 Brown Cir|                null|  2025-07-01|\n",
      "| 1304 Scott St Ste D|     null|     null|      closed|      Petaluma|United States|5ae467af-66dc-4d7...|    38.27029381|     -122.665055|101 North Brewing...|  7077534934| 94954-7100|   California|    California| 1304 Scott St Ste D|http://www.101nor...|  2025-07-01|\n",
      "|        1043 Park St|     null|     null|       micro|   Castle Rock|United States|4ffda196-dd59-44a...|    39.38269495|    -104.8667206| 105 West Brewing Co|  3033257321| 80109-1585|     Colorado|      Colorado|        1043 Park St|http://www.105wes...|  2025-07-01|\n",
      "|        2005 2nd Ave|     null|     null|       micro|         Anoka|United States|42aa37d5-8384-4ff...|    45.19812039|    -93.38952559|         10K Brewing|  7633924753| 55303-2243|    Minnesota|     Minnesota|        2005 2nd Ave|  http://10KBrew.com|  2025-07-01|\n",
      "|   491 Washington St|     null|     null|       micro|      Abington|United States|232e8f62-9afc-45f...|    42.10591754|    -70.94594149|10th District Bre...|  7813071554| 02351-2419|Massachusetts| Massachusetts|   491 Washington St|http://www.10thdi...|  2025-07-01|\n",
      "|   6820 Bourgeois Rd|     null|     null|       micro|       Houston|United States|08f78223-24f8-4b7...|     29.9515464|     -95.5186591|11 Below Brewing ...|  2814442337| 77066-3107|        Texas|         Texas|   6820 Bourgeois Rd|http://www.11belo...|  2025-07-01|\n",
      "|       141 E Main St|     null|     null|     brewpub|      John Day|United States|58293321-14ae-49d...|     44.4146563|    -118.9218754|     1188 Brewing Co|  5415751188| 97845-1210|       Oregon|        Oregon|       141 E Main St|http://www.1188br...|  2025-07-01|\n",
      "|      Unnamed Street| Clonmore|     null|       micro|     Killeshin|      Ireland|e5f3e72a-fee2-481...|    52.84930763|    -6.979343891|12 Acres Brewing ...|353599107299|   R93 X3X8|        Laois|         Laois|      Unnamed Street|https://12acresbr...|  2025-07-01|\n",
      "|80 Earhart Dr Ste 20|     null|     null|     brewpub| Williamsville|United States|d81ff708-b5d2-478...|           null|            null|12 Gates Brewing ...|  7169066600| 14221-7804|     New York|      New York|80 Earhart Dr Ste 20|http://www.12gate...|  2025-07-01|\n",
      "+--------------------+---------+---------+------------+--------------+-------------+--------------------+---------------+----------------+--------------------+------------+-----------+-------------+--------------+--------------------+--------------------+------------+\n",
      "only showing top 20 rows\n",
      "\n"
     ]
    }
   ],
   "source": [
    "df_main_silver.show()"
   ]
  },
  {
   "cell_type": "markdown",
   "id": "e613bdb4",
   "metadata": {},
   "source": [
    "Aggregating test"
   ]
  },
  {
   "cell_type": "code",
   "execution_count": 68,
   "id": "105ba2e8",
   "metadata": {},
   "outputs": [
    {
     "name": "stderr",
     "output_type": "stream",
     "text": [
      "[Stage 137:===============================================>     (180 + 4) / 200]\r"
     ]
    },
    {
     "name": "stdout",
     "output_type": "stream",
     "text": [
      "+------------+-------------+-----+\n",
      "|brewery_type|      country|count|\n",
      "+------------+-------------+-----+\n",
      "|     brewpub|United States| 2402|\n",
      "|     taproom|United States|    9|\n",
      "|    contract|United States|  189|\n",
      "|      closed|United States|  226|\n",
      "|         bar|United States|    2|\n",
      "|    regional|United States|  216|\n",
      "|        nano|United States|   11|\n",
      "|    planning|United States|  674|\n",
      "|       micro|United States| 4163|\n",
      "|    location|United States|    1|\n",
      "|       large|United States|   74|\n",
      "|  proprietor|United States|   69|\n",
      "|       micro|       Sweden|   10|\n",
      "|       micro|  South Korea|    5|\n",
      "|     brewpub|  South Korea|   56|\n",
      "|       large|    Singapore|    1|\n",
      "|     brewpub|    Singapore|    4|\n",
      "|         bar|    Singapore|   28|\n",
      "|      closed|     Scotland|    1|\n",
      "|       micro|     Scotland|    9|\n",
      "+------------+-------------+-----+\n",
      "only showing top 20 rows\n",
      "\n"
     ]
    },
    {
     "name": "stderr",
     "output_type": "stream",
     "text": [
      "                                                                                \r"
     ]
    }
   ],
   "source": [
    "df_latest_data = df_main_silver.filter(f.col('process_date') == latest_date)\n",
    "df_agg_loc_type = df_latest_data.groupBy('brewery_type', 'country')\\\n",
    "    .count()\\\n",
    "    .orderBy('country', ascending=False)\n",
    "\n",
    "df_agg_loc_type.show()"
   ]
  },
  {
   "cell_type": "markdown",
   "id": "87a6daa9",
   "metadata": {},
   "source": [
    "Reading the Gold Layer"
   ]
  },
  {
   "cell_type": "code",
   "execution_count": 69,
   "id": "36d89209",
   "metadata": {},
   "outputs": [
    {
     "name": "stdout",
     "output_type": "stream",
     "text": [
      "+------------+-------------+-----+------------+\n",
      "|brewery_type|      country|count|process_date|\n",
      "+------------+-------------+-----+------------+\n",
      "|    regional|United States|  216|  2025-07-01|\n",
      "|       micro|United States| 4163|  2025-07-01|\n",
      "|        nano|United States|   11|  2025-07-01|\n",
      "|         bar|United States|    2|  2025-07-01|\n",
      "|       large|United States|   74|  2025-07-01|\n",
      "|      closed|United States|  226|  2025-07-01|\n",
      "|    location|United States|    1|  2025-07-01|\n",
      "|    planning|United States|  674|  2025-07-01|\n",
      "|     taproom|United States|    9|  2025-07-01|\n",
      "|     brewpub|United States| 2402|  2025-07-01|\n",
      "|    contract|United States|  189|  2025-07-01|\n",
      "|  proprietor|United States|   69|  2025-07-01|\n",
      "|       micro|       Sweden|   10|  2025-07-01|\n",
      "|     brewpub|  South Korea|   56|  2025-07-01|\n",
      "|       micro|  South Korea|    5|  2025-07-01|\n",
      "|       large|    Singapore|    1|  2025-07-01|\n",
      "|         bar|    Singapore|   28|  2025-07-01|\n",
      "|     brewpub|    Singapore|    4|  2025-07-01|\n",
      "|      closed|     Scotland|    1|  2025-07-01|\n",
      "|       micro|     Scotland|    9|  2025-07-01|\n",
      "+------------+-------------+-----+------------+\n",
      "only showing top 20 rows\n",
      "\n"
     ]
    }
   ],
   "source": [
    "df_gold = spark.read.parquet('../../datalake/Gold/brewery_data/brewery_data_main')\n",
    "df_gold.show()"
   ]
  }
 ],
 "metadata": {
  "kernelspec": {
   "display_name": "venv",
   "language": "python",
   "name": "python3"
  },
  "language_info": {
   "codemirror_mode": {
    "name": "ipython",
    "version": 3
   },
   "file_extension": ".py",
   "mimetype": "text/x-python",
   "name": "python",
   "nbconvert_exporter": "python",
   "pygments_lexer": "ipython3",
   "version": "3.9.5"
  }
 },
 "nbformat": 4,
 "nbformat_minor": 5
}
